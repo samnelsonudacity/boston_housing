{
  "cells": [
    {
      "metadata": {
        "_cell_guid": "b1076dfc-b9ad-4769-8c92-a6c4dae69d19",
        "_uuid": "8f2839f25d086af736a60e9eeb907d3b93b6e0e5",
        "trusted": true
      },
      "cell_type": "code",
      "source": "# This Python 3 environment comes with many helpful analytics libraries installed\n# It is defined by the kaggle/python docker image: https://github.com/kaggle/docker-python\n# For example, here's several helpful packages to load in \n\nimport numpy as np # linear algebra\nimport pandas as pd # data processing, CSV file I/O (e.g. pd.read_csv)\n\n# Input data files are available in the \"../input/\" directory.\n# For example, running this (by clicking run or pressing Shift+Enter) will list the files in the input directory\n\nimport os\nprint(os.listdir(\"../input\"))\n\n# Any results you write to the current directory are saved as output.",
      "execution_count": 1,
      "outputs": [
        {
          "output_type": "stream",
          "text": "['reviews.csv', 'listings.csv', 'calendar.csv']\n",
          "name": "stdout"
        }
      ]
    },
    {
      "metadata": {
        "_cell_guid": "79c7e3d0-c299-4dcb-8224-4455121ee9b0",
        "_uuid": "d629ff2d2480ee46fbb7e2d37f6b5fab8052498a",
        "trusted": true
      },
      "cell_type": "code",
      "source": "listings=pd.read_csv('../input/listings.csv')\ncalendar=pd.read_csv('../input/calendar.csv')\nprint(listings.head())\nprint(calendar.head())",
      "execution_count": 2,
      "outputs": [
        {
          "output_type": "stream",
          "text": "         id                            listing_url       scrape_id  \\\n0  12147973  https://www.airbnb.com/rooms/12147973  20160906204935   \n1   3075044   https://www.airbnb.com/rooms/3075044  20160906204935   \n2      6976      https://www.airbnb.com/rooms/6976  20160906204935   \n3   1436513   https://www.airbnb.com/rooms/1436513  20160906204935   \n4   7651065   https://www.airbnb.com/rooms/7651065  20160906204935   \n\n  last_scraped                                           name  \\\n0   2016-09-07                     Sunny Bungalow in the City   \n1   2016-09-07              Charming room in pet friendly apt   \n2   2016-09-07               Mexican Folk Art Haven in Boston   \n3   2016-09-07  Spacious Sunny Bedroom Suite in Historic Home   \n4   2016-09-07                            Come Home to Boston   \n\n                                             summary  \\\n0  Cozy, sunny, family home.  Master bedroom high...   \n1  Charming and quiet room in a second floor 1910...   \n2  Come stay with a friendly, middle-aged guy in ...   \n3  Come experience the comforts of home away from...   \n4  My comfy, clean and relaxing home is one block...   \n\n                                               space  \\\n0  The house has an open and cozy feel at the sam...   \n1  Small but cozy and quite room with a full size...   \n2  Come stay with a friendly, middle-aged guy in ...   \n3  Most places you find in Boston are small howev...   \n4  Clean, attractive, private room, one block fro...   \n\n                                         description experiences_offered  \\\n0  Cozy, sunny, family home.  Master bedroom high...                none   \n1  Charming and quiet room in a second floor 1910...                none   \n2  Come stay with a friendly, middle-aged guy in ...                none   \n3  Come experience the comforts of home away from...                none   \n4  My comfy, clean and relaxing home is one block...                none   \n\n                               neighborhood_overview        ...          \\\n0  Roslindale is quiet, convenient and friendly. ...        ...           \n1  The room is in Roslindale, a diverse and prima...        ...           \n2  The LOCATION: Roslindale is a safe and diverse...        ...           \n3  Roslindale is a lovely little neighborhood loc...        ...           \n4  I love the proximity to downtown, the neighbor...        ...           \n\n  review_scores_value requires_license license jurisdiction_names  \\\n0                 NaN                f     NaN                NaN   \n1                 9.0                f     NaN                NaN   \n2                10.0                f     NaN                NaN   \n3                10.0                f     NaN                NaN   \n4                10.0                f     NaN                NaN   \n\n  instant_bookable cancellation_policy require_guest_profile_picture  \\\n0                f            moderate                             f   \n1                t            moderate                             f   \n2                f            moderate                             t   \n3                f            moderate                             f   \n4                f            flexible                             f   \n\n  require_guest_phone_verification calculated_host_listings_count  \\\n0                                f                              1   \n1                                f                              1   \n2                                f                              1   \n3                                f                              1   \n4                                f                              1   \n\n   reviews_per_month  \n0                NaN  \n1               1.30  \n2               0.47  \n3               1.00  \n4               2.25  \n\n[5 rows x 95 columns]\n   listing_id        date available price\n0    12147973  2017-09-05         f   NaN\n1    12147973  2017-09-04         f   NaN\n2    12147973  2017-09-03         f   NaN\n3    12147973  2017-09-02         f   NaN\n4    12147973  2017-09-01         f   NaN\n",
          "name": "stdout"
        }
      ]
    }
  ],
  "metadata": {
    "kernelspec": {
      "display_name": "Python 3",
      "language": "python",
      "name": "python3"
    },
    "language_info": {
      "name": "python",
      "version": "3.6.4",
      "mimetype": "text/x-python",
      "codemirror_mode": {
        "name": "ipython",
        "version": 3
      },
      "pygments_lexer": "ipython3",
      "nbconvert_exporter": "python",
      "file_extension": ".py"
    }
  },
  "nbformat": 4,
  "nbformat_minor": 1
}
